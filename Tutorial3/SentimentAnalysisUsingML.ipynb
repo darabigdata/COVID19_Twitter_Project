{
 "cells": [
  {
   "cell_type": "markdown",
   "metadata": {},
   "source": [
    "# Tutorial 3: Perform sentiment analysis using machine learning"
   ]
  },
  {
   "cell_type": "markdown",
   "metadata": {},
   "source": [
    "## Introduction"
   ]
  },
  {
   "cell_type": "markdown",
   "metadata": {},
   "source": [
    "In this tutorial you will use a labelled dataset (similar to that used in tutorial 2) to train a machine learning model, which can then be used to make sentiment predictions for new text. We will explore methods of supervised machine learning, as well as a more advanced form of machine learning, called transfer learning.\n",
    "\n",
    "It is likely that most of you will have come across the term machine learning, but what exactly is machine learning? Machine learning is an application of artificial intelligence (AI), which involves creating computer programmes that take in data and use it to learn the properties/features of the data, in order to make predictions for new data. Rather than explicitly programming rules to predict results, a machine learning model will be able to predict an output from looking at many examples of your data .\n",
    "\n",
    "The sections of this tutorial are as follows:\n",
    "\n",
    "1. Classical machine learning \\\n",
    "    1.1 Data preparation \\\n",
    "    1.2 Feature extraction \\\n",
    "    1.3 Building a model   \\\n",
    "    1.4 Make new predictions\n",
    "    \n",
    "2. Transfer learning   \\\n",
    "    2.1 BERT   \\\n",
    "    2.2 COVID-Twitter BERT (CT-BERT)\n"
   ]
  },
  {
   "cell_type": "markdown",
   "metadata": {},
   "source": [
    "<hr>"
   ]
  },
  {
   "cell_type": "markdown",
   "metadata": {},
   "source": [
    "## 1. Classical Machine Learning Approach"
   ]
  },
  {
   "cell_type": "markdown",
   "metadata": {},
   "source": [
    "### Supervised Machine Learning"
   ]
  },
  {
   "cell_type": "markdown",
   "metadata": {},
   "source": [
    "Classical machine learning is comprised largely of two types of machine learning, namely supervised and unsupervised. \n",
    "\n",
    "Supervised machine learning refers to the case where **labelled data** is used to train a model based on the features of each class, in our case it is able to learn which words (features) are most likely to signify a specific sentiment (classes)."
   ]
  },
  {
   "cell_type": "markdown",
   "metadata": {},
   "source": [
    "As ususal, let's start by importing all the libraries needed for this tutorial."
   ]
  },
  {
   "cell_type": "code",
   "execution_count": null,
   "metadata": {},
   "outputs": [],
   "source": [
    "# ___Cell no. 1___\n",
    "\n",
    "import pandas as pd\n",
    "import numpy as np\n",
    "\n",
    "from sklearn.feature_extraction.text import CountVectorizer\n",
    "from sklearn.model_selection import train_test_split\n",
    "\n",
    "from sklearn.linear_model import SGDClassifier, LogisticRegression\n",
    "from sklearn.tree import DecisionTreeClassifier\n",
    "from sklearn.svm import SVC\n",
    "from sklearn.neighbors import KNeighborsClassifier\n",
    "from sklearn.ensemble import RandomForestClassifier\n",
    "\n",
    "from sklearn.metrics import accuracy_score, confusion_matrix, f1_score, classification_report "
   ]
  },
  {
   "cell_type": "markdown",
   "metadata": {},
   "source": [
    "Let's read in the labelled Twitter data, which has been cleaned and undergone preprocessing as demonstrated in tutorial 1, and once again put it into a pandas dataframe. Remember that if these tweets do not sound grammatically correct, it is because the stopwords have been removed from the text."
   ]
  },
  {
   "cell_type": "code",
   "execution_count": null,
   "metadata": {},
   "outputs": [],
   "source": [
    "# ___Cell no. 2___\n",
    "\n",
    "df = pd.read_csv('labelled_data_preprocessed.csv')\n",
    "df"
   ]
  },
  {
   "cell_type": "markdown",
   "metadata": {},
   "source": [
    "### 1.1 Data Preparation"
   ]
  },
  {
   "cell_type": "markdown",
   "metadata": {},
   "source": [
    "Let's have a quick look at some of the properties of the data in the dataframe."
   ]
  },
  {
   "cell_type": "code",
   "execution_count": null,
   "metadata": {},
   "outputs": [],
   "source": [
    "# ___Cell no. 3___\n",
    "\n",
    "# Display some useful information about the data in the dataframe\n",
    "df.info()"
   ]
  },
  {
   "cell_type": "markdown",
   "metadata": {},
   "source": [
    "You may notice that there is a difference in the number of _non-null_ data entries in the 'tweet_text' and 'label' columns."
   ]
  },
  {
   "cell_type": "markdown",
   "metadata": {},
   "source": [
    "A common obstacle in the field of data science is the occurence of _bad_ or _missing_ data. In most of these cases, the solution would be to either delete the rows containing the missing data, or to replace the data points with an average of the existing data. \n",
    "\n",
    "In our case, we may have missing data in our 'tweet_text' column, due to the stopword removal performed during the data preprocessing. i.e. if there existed any tweets consisting only of stopwords, these will now be empty. We will perform the simple procedure of dropping any rows in which there are missing data in either column. "
   ]
  },
  {
   "cell_type": "code",
   "execution_count": null,
   "metadata": {},
   "outputs": [],
   "source": [
    "# ___Cell no. 4___\n",
    "\n",
    "# Drop all rows which contain a NaN, or null value in either column\n",
    "df = df.dropna()"
   ]
  },
  {
   "cell_type": "markdown",
   "metadata": {},
   "source": [
    "If we once again display the dataframe info, the number of data entries for each column should now be the same."
   ]
  },
  {
   "cell_type": "code",
   "execution_count": null,
   "metadata": {},
   "outputs": [],
   "source": [
    "# ___Cell no. 5___\n",
    "\n",
    "df.info()"
   ]
  },
  {
   "cell_type": "markdown",
   "metadata": {},
   "source": [
    "Now let's have a quick look at the sentiment label distribution of our data, remembering that the labels 0, 1 and 2 correspond to tweets with negative, neutral and positive sentiment, respectively."
   ]
  },
  {
   "cell_type": "code",
   "execution_count": null,
   "metadata": {},
   "outputs": [],
   "source": [
    "# ___Cell no. 6___\n",
    "\n",
    "df['label'].value_counts()"
   ]
  },
  {
   "cell_type": "markdown",
   "metadata": {},
   "source": [
    "For simplicity sake, we will exclude tweets with neutral sentiment, thus making this a binary classification task. Let's put all tweets with positive and negative sentiment into a new dataframe."
   ]
  },
  {
   "cell_type": "code",
   "execution_count": null,
   "metadata": {},
   "outputs": [],
   "source": [
    "# ___Cell no. 7___\n",
    "\n",
    "# make it binary classification challenge\n",
    "binary_df = df[(df['label']==0) | (df['label']==2) ] "
   ]
  },
  {
   "cell_type": "markdown",
   "metadata": {},
   "source": [
    "Next, to make this project and the results more intuitive, let us change the label for positive sentiment from 2 to 1. Thus we will now have a dataframe with the tweet text and a label of either 0 or 1, corresponding to tweets with either a negative or positive sentiment, respectively."
   ]
  },
  {
   "cell_type": "markdown",
   "metadata": {},
   "source": [
    "<div class=\"alert alert-block alert-info\">\n",
    "    \n",
    "<b>Note:</b> We can ignore the warning text that appears in the red output cell, this is just a warning that occurs when one tries to reset values in the dataframe.\n",
    "\n",
    "</div>"
   ]
  },
  {
   "cell_type": "code",
   "execution_count": null,
   "metadata": {},
   "outputs": [],
   "source": [
    "# ___Cell no. 8___\n",
    "\n",
    "# Change the label for positive sentiment from 2 to 1\n",
    "binary_df['label'] = binary_df['label'].replace(2, 1) "
   ]
  },
  {
   "cell_type": "code",
   "execution_count": null,
   "metadata": {},
   "outputs": [],
   "source": [
    "# ___Cell no. 9___\n",
    "\n",
    "binary_df['label'].value_counts()"
   ]
  },
  {
   "cell_type": "markdown",
   "metadata": {},
   "source": [
    "We can see that there are far more data with negative sentiment labels than positive. This means that our model will likely be better at predicting negative sentiments than positive sentiments. One way to remedy this is to use a balanced dataset so that our prediction model is not biased toward a particular class. We will therefore need to use the same number of negative tweets as positive tweets. Let's do this by randomly selecting the same number of negative tweets and creating a new dataframe."
   ]
  },
  {
   "cell_type": "code",
   "execution_count": null,
   "metadata": {},
   "outputs": [],
   "source": [
    "# ___Cell no. 10___\n",
    "\n",
    "# Sample from the dataframe to create a balanced dataset, i.e. address under/over representation of labels\n",
    "pos_samples = binary_df[binary_df['label']==1]\n",
    "\n",
    "# Randomly sample from the negative tweets to select the same quantity as the number of psotive tweets\n",
    "neg_samples = binary_df[binary_df['label']==0].sample(len(pos_samples), random_state=42)\n",
    "\n",
    "# Put this balanced data into a new dataframe\n",
    "balanced_binary_df = pd.concat([pos_samples, neg_samples])"
   ]
  },
  {
   "cell_type": "markdown",
   "metadata": {},
   "source": [
    "Let's make sure that we now have a balanced dataset with equal representation of each class of tweets, i.e. postive and negative sentiment."
   ]
  },
  {
   "cell_type": "code",
   "execution_count": null,
   "metadata": {},
   "outputs": [],
   "source": [
    "# ___Cell no. 11___\n",
    "\n",
    "balanced_binary_df['label'].value_counts()"
   ]
  },
  {
   "cell_type": "markdown",
   "metadata": {},
   "source": [
    "### 1.2 Feature Extraction"
   ]
  },
  {
   "cell_type": "markdown",
   "metadata": {},
   "source": [
    "Now that we are sure that our dataset contains no missing entries and we have ensured that we are working with a balanced dataset, we can begin to extract features from our data which will be used to train and validate our model.\n",
    "\n",
    "When working with text (NLP),we will have to first represent our data (tweet text) in a form which a computer would understand...numbers! In other words, we want to _numericalise_ our text. A common way of doing this is called _vectorisation_, but more on this complicated sounding word soon. First, the text needs to be tokenised. Tokenisation simply refers to splitting all text in our corpus into individual words, or, _tokens_."
   ]
  },
  {
   "cell_type": "code",
   "execution_count": null,
   "metadata": {},
   "outputs": [],
   "source": [
    "# ___Cell no. 12___\n",
    "\n",
    "tweets = balanced_binary_df['tweet_text']\n",
    "sentiments = balanced_binary_df['label']\n",
    "#tweets = binary_df['tweet_text']\n",
    "#sentiments = binary_df['label']"
   ]
  },
  {
   "cell_type": "markdown",
   "metadata": {},
   "source": [
    "An 80/20 training/validation split is a good rule of thumb. You want to have as much data as possible to learn from while still having a reliable enough amount of data to evaluate (validate) your model. The more data you have for your model to learn from, the better your chances are of more accurate predictions on unseen data. If we were to use a training set that was too small, the model would learn the specifics of the smaller dataset. This split also depends on the amount of data you have. If you have a very large dataset, you may not need as big of a fraction allocated to the test set. \n",
    "\n",
    "*NB  : You may want to play around with this ratio for your own datasets in the future*"
   ]
  },
  {
   "cell_type": "code",
   "execution_count": null,
   "metadata": {},
   "outputs": [],
   "source": [
    "# ___Cell no. 13___\n",
    "\n",
    "# Randomly splits the data and respective labels (y values) into a train and validation set, the size of the\n",
    "# validation set is specified to be 20%\n",
    "\n",
    "X_train, X_test, y_train, y_test  = train_test_split(tweets, sentiments, test_size=0.2, random_state=42)"
   ]
  },
  {
   "cell_type": "markdown",
   "metadata": {},
   "source": [
    "To begin extracting the features from our text, we are going to make use of the _Bag of Words_ (BOW) method. The BOW approach is simple - Given any text, create a dictionary of each unique word in the text, i.e. the vocabulary, and then count the frequency of each word, i.e. how many times the word is present in the corpus.\n",
    "\n",
    "(NB: Stop word removal is necessary here so that our vocabulary is made up only of words which contribute to the sentiment of the text)\n",
    "\n",
    "Let's look at a simple example. Take the tweet \"This day is a beautiful sunny day\", after removing stop words our text would look something like \"day beautiful sunny day\". If we now list each unique word and the frequency of each word it would look like this:\n",
    "\n",
    "| day | beautiful | sunny |\n",
    "| --- | --- | --- |\n",
    "| 2 | 1 | 1 |\n",
    "\n",
    "Once this is done for the entire corpus, the result would be a matrix of the frequency of each word in each document (each tweet in our case). This is called a _**term-document matrix**_ and an example of what this may look like for our COVID19-related tweets is shown in the table below. These numbers, along with zeros for every other word in the dictionary that was not present in this text, will be the _vector_ representation of the tweet text. We therefore call this process _vectorisation_. These vectors are our features which will be used to train and validate our model. Thankfully, the sklearn library makes this process very easy with their implementation of the BOW method called _CountVectorizer_.\n"
   ]
  },
  {
   "attachments": {
    "TDM.png": {
     "image/png": "[encoded data removed]"
    }
   },
   "cell_type": "markdown",
   "metadata": {},
   "source": [
    "![TDM.png](attachment:TDM.png)"
   ]
  },
  {
   "cell_type": "code",
   "execution_count": null,
   "metadata": {},
   "outputs": [],
   "source": [
    "# ___Cell no. 14___\n",
    "\n",
    "cv = CountVectorizer(analyzer='word', ngram_range=(1,2)) \n",
    "\n",
    "# Builds BOW features on tweets in the train set\n",
    "# Fit identifies all the unique words in the corpus, while transform counts the occurence of each word \n",
    "cv_train_features = cv.fit_transform(X_train) "
   ]
  },
  {
   "cell_type": "markdown",
   "metadata": {},
   "source": [
    "The _Ngram_ parameter above refers to searching the text for the most frequent word combinations of size n. Thus, our selection of (1,2) means that tokens will comprise of unique words, as well as common ngrams of size 2 (also known as bi-grams), for example, 'new_york', 'infection_rate' etc."
   ]
  },
  {
   "cell_type": "code",
   "execution_count": null,
   "metadata": {},
   "outputs": [],
   "source": [
    "# ___Cell no. 15___\n",
    "\n",
    "# Obtain the features for the test set\n",
    "cv_test_features = cv.transform(X_test)"
   ]
  },
  {
   "cell_type": "markdown",
   "metadata": {},
   "source": [
    "### 1.3 Build A Classification Model"
   ]
  },
  {
   "cell_type": "markdown",
   "metadata": {},
   "source": [
    "Researchers and data scientists have, over time, created many different machine learning models, some of which are well-known and used often. Some models are more suited to certain problems, i.e. computer vision (image processing), NLP (text), numerical data etc. These models differ in the way that they _learn_.\n",
    "\n",
    "With the existence of amazing libraries such as [scikit-learn](https://scikit-learn.org/stable/), we are able to easily access and try out various models, to see which yield the best results. The end goal is for our model to be able to classify text as having either positive or negative sentiment, thus, we will try out various _classifier_ models.\n",
    "\n",
    "If you wish to learn more about the various models on offer from scikit-learn you can read up on them [here](https://scikit-learn.org/stable/supervised_learning.html)."
   ]
  },
  {
   "cell_type": "code",
   "execution_count": null,
   "metadata": {},
   "outputs": [],
   "source": [
    "# ___Cell no. 16___\n",
    "\n",
    "# Here we instantiate the various models\n",
    "\n",
    "# Support vector machine model\n",
    "svm = SGDClassifier(loss='hinge', l1_ratio=0.15, max_iter=300, n_jobs=4, random_state=101)\n",
    "# Decision tree model\n",
    "dt = DecisionTreeClassifier(criterion = 'entropy', random_state = 0)\n",
    "# Random forest model\n",
    "rf = RandomForestClassifier(n_estimators = 10, criterion = 'entropy', random_state = 0)\n",
    "# Logistic regression model\n",
    "lr = LogisticRegression(max_iter=100, C=1, multi_class='auto', solver='lbfgs')\n",
    "# Kernel svm model\n",
    "kernel_svm = SVC(kernel = 'rbf', random_state = 0, gamma='scale')\n",
    "# K nearest neighbours model\n",
    "knn = KNeighborsClassifier(n_neighbors = 5, metric = 'minkowski', p = 2)"
   ]
  },
  {
   "cell_type": "markdown",
   "metadata": {},
   "source": [
    "Let's select a classifier model from the options above."
   ]
  },
  {
   "cell_type": "code",
   "execution_count": null,
   "metadata": {},
   "outputs": [],
   "source": [
    "# ___Cell no. 17___\n",
    "\n",
    "# Select which classifier model you want to use\n",
    "classifier =  dt"
   ]
  },
  {
   "cell_type": "markdown",
   "metadata": {},
   "source": [
    "Below we create a function which uses the selected classifier, along with the features of the train set to train the model. The model is then used to make predictions about the data in the validation set."
   ]
  },
  {
   "cell_type": "code",
   "execution_count": null,
   "metadata": {},
   "outputs": [],
   "source": [
    "# ___Cell no. 18___\n",
    "\n",
    "def train_predict_model(classifier,  train_features, train_labels,  test_features, test_labels):\n",
    "    \n",
    "    # build the model    \n",
    "    classifier.fit(train_features, train_labels)\n",
    "    # make predictions using model\n",
    "    y_pred = classifier.predict(test_features) \n",
    "    \n",
    "    return y_pred"
   ]
  },
  {
   "cell_type": "markdown",
   "metadata": {},
   "source": [
    "We then call the above function, passing in the chosen classifier, features of the training and validation set extracted using CountVectorizer, as well as the corresponding sentiment labels. \n",
    "\n",
    "In summary, the model learns from the features of the tweets in the training set and their respective training labels, and, given the features of the tweets in the validation set, attempts to predict the class labels of tweets in the validation set."
   ]
  },
  {
   "cell_type": "code",
   "execution_count": null,
   "metadata": {},
   "outputs": [],
   "source": [
    "# ___Cell no. 19___\n",
    "\n",
    "# Model predictions\n",
    "\n",
    "y_pred = train_predict_model(classifier=classifier,\n",
    "                             train_features=cv_train_features,\n",
    "                             train_labels= y_train,\n",
    "                             test_features=cv_test_features,\n",
    "                             test_labels= y_test)"
   ]
  },
  {
   "cell_type": "markdown",
   "metadata": {},
   "source": [
    "There are various metrics which then provide information on the performance of our model. Scikit-learn has [methods](https://scikit-learn.org/stable/modules/classes.html#module-sklearn.metrics) which easily calculate these metrics for us. The metrics we will be using are the confusion matrix, f1 score, accuracy, as well as a convenient classification report which provides more detailed information such as the precison, recall and f1 score for each class.\n",
    "\n",
    "Below is a brief description of each metric:\n",
    "\n",
    "- **Accuracy** - This represents the number of correct classifications (true positives + true negatives) over the total number of classifications made.\n",
    "- **Precision** - This metric quantifies the number of positive class predictions that actually belong to the positive class.\n",
    "- **Recall** - Recall quantifies the number of positive class predictions made out of all positive examples (true positives + false negatives) in the dataset.\n",
    "- **F1-score** (also called the F-Measure) - This metric balances the concerns of both precision and recall and is therefore a more reliable measure of performance.\n",
    "\n",
    "A more detailed explanation of the above metrics can be found in this [article](https://medium.com/analytics-vidhya/confusion-matrix-accuracy-precision-recall-f1-score-ade299cf63cd)."
   ]
  },
  {
   "cell_type": "code",
   "execution_count": null,
   "metadata": {},
   "outputs": [],
   "source": [
    "# ___Cell no. 20___\n",
    "\n",
    "# To calculate these metrics we pass in the actual sentiment labels for tweets in the validation set (y_test),\n",
    "# along with the sentiment predictions from our model (y_pred)\n",
    "cm = confusion_matrix(y_test, y_pred)\n",
    "accuracy = accuracy_score(y_test, y_pred)\n",
    "f1 = f1_score(y_test, y_pred, average='weighted')\n",
    "\n",
    "# Print out the results\n",
    "print('Confusion Matrix:', '\\n')\n",
    "print(cm, '\\n')\n",
    "print('Accuracy = ', accuracy)\n",
    "print('F1 Score = ',f1, '\\n')\n",
    "print(classification_report(y_test, y_pred))"
   ]
  },
  {
   "cell_type": "markdown",
   "metadata": {},
   "source": [
    "Take note of the f1-score for each class, i.e. tweets with negative (0) and positive (1) sentiment. Investigate what happens if the unbalanced dataset (_binary_df_ - see cell number 12) is used to train the model, how does it impact the f1-scores?"
   ]
  },
  {
   "cell_type": "markdown",
   "metadata": {},
   "source": [
    "### 1.4 Make new predictions"
   ]
  },
  {
   "cell_type": "markdown",
   "metadata": {},
   "source": [
    "The _classifier_ model which you have trained in the section above can now be used to predict the sentiment for new/unseen text, i.e. the tweets which you will collect when working on the hackathon task."
   ]
  },
  {
   "cell_type": "markdown",
   "metadata": {},
   "source": [
    "After collecting, cleaning and pre-processing your tweets, you will extract the features of the tweet text using Count Vectorizer as you have done in the section above. You will then pass in the features of your tweet text into the model**.predict** function as shown below."
   ]
  },
  {
   "cell_type": "code",
   "execution_count": null,
   "metadata": {},
   "outputs": [],
   "source": [
    "# ___Cell no. 21___\n",
    "\n",
    "# The text from your new tweets - here we are just using a small subset of the exisiting tweet_text column\n",
    "# for demonstration purposes.\n",
    "\n",
    "new_tweets = df['tweet_text'].iloc[10:30]"
   ]
  },
  {
   "cell_type": "code",
   "execution_count": null,
   "metadata": {},
   "outputs": [],
   "source": [
    "# ___Cell no. 22___\n",
    "\n",
    "# Extract the features of the twitter text you have collected\n",
    "newtext_features = cv.transform(new_tweets)"
   ]
  },
  {
   "cell_type": "code",
   "execution_count": null,
   "metadata": {},
   "outputs": [],
   "source": [
    "# ___Cell no. 23___\n",
    "\n",
    "# Obtain the model's sentiment predictions for your collected tweets\n",
    "new_result = classifier.predict(newtext_features)\n",
    "print(new_result)"
   ]
  },
  {
   "cell_type": "markdown",
   "metadata": {},
   "source": [
    "The function outputs an array of sentiment predictions corresponding to each tweet, i.e. 0 - negative sentiment and 1 - positive sentiment."
   ]
  },
  {
   "cell_type": "markdown",
   "metadata": {},
   "source": [
    "<hr>"
   ]
  },
  {
   "cell_type": "markdown",
   "metadata": {},
   "source": [
    "## 2. Transfer Learning Approach"
   ]
  },
  {
   "cell_type": "markdown",
   "metadata": {},
   "source": [
    "A subset of machine learning is called _deep learning_. Deep learning makes use of deep neural networks, i.e. neutral networks which have an input layer, output layer and one or more _hidden layers_ in between, in order to train a prediction model.\n",
    "\n",
    "As useful and impressive as deep learning models are, they usually require LOTS of data. This is especially true for NLP where we may be able to train our model based on text features corresponding to a certain sentiment, however our model may lack an understanding of the nuances of language. Language is inherently a difficult concept for a computer to grasp. We would therefore benefit from a model which has been trained on a very large, generalised dataset, which we could then fine-tune to our specific needs. The ability to transfer knowledge from a trained model is known as _transfer learning_ and is the method we will be exploring.\n",
    "\n",
    "Transfer learning is thus a concept where you take knowledge gained from one problem and apply it to a similar problem. In as far as it applies to our use case of predicting sentiment, transfer learning can be distilled into three steps:\n",
    "\n",
    "1) Use an existing language model that has been trained on LOTS (usually 10s or 100s of GB worth) of text. This will result in a language model that 'understands' the rules of a language. This is referred to as a pretrained language model.\n",
    "\n",
    "2) The next step is fine-tuning. This is where we take a language model that 'understands' language in a more general sense and adapt it to our particular domain. This could be, for example, medical reports, legislative documents or as in the case of our work, Covid-19 related tweets.\n",
    "\n",
    "3) Once we have a fine-tuned language model we can then use it to initialise a classifier to predict the labels of our domain specific text, i.e. sentiment."
   ]
  },
  {
   "attachments": {
    "transfer-learning.png": {
     "image/png": "[encoded data removed]"
    }
   },
   "cell_type": "markdown",
   "metadata": {},
   "source": [
    "![transfer-learning.png](attachment:transfer-learning.png)"
   ]
  },
  {
   "cell_type": "code",
   "execution_count": null,
   "metadata": {},
   "outputs": [],
   "source": [
    "# ___Cell no. 24___\n",
    "\n",
    "from IPython.core.interactiveshell import InteractiveShell\n",
    "InteractiveShell.ast_node_interactivity = \"all\""
   ]
  },
  {
   "cell_type": "code",
   "execution_count": null,
   "metadata": {},
   "outputs": [],
   "source": [
    "# ___Cell no. 25___\n",
    "\n",
    "from simpletransformers.classification import ClassificationModel\n",
    "\n",
    "import pandas as pd\n",
    "import sklearn\n",
    "from sklearn.model_selection import train_test_split\n",
    "import random\n",
    "import numpy as np\n",
    "import torch\n",
    "from sklearn.model_selection import KFold\n",
    "\n",
    "import logging\n",
    "from pathlib import Path"
   ]
  },
  {
   "cell_type": "markdown",
   "metadata": {},
   "source": [
    "Unlike in the supervised learning approach above, in the case of transfer learning, we want to work with text which has not had stopwords removed. This is because we want our text to be representative of normal language and possess the same language structure and rules as learned by the language model we will use."
   ]
  },
  {
   "cell_type": "code",
   "execution_count": null,
   "metadata": {},
   "outputs": [],
   "source": [
    "# ___Cell no. 26___\n",
    "\n",
    "df2 = pd.read_csv('labelled_data_cleaned.csv')\n",
    "df2"
   ]
  },
  {
   "cell_type": "markdown",
   "metadata": {},
   "source": [
    "Now let's create the binary and balanced versions of the dataset, as we did in the supervised learning example above."
   ]
  },
  {
   "cell_type": "markdown",
   "metadata": {},
   "source": [
    "<div class=\"alert alert-block alert-info\">\n",
    "    \n",
    "<b>Note:</b> We can once again ignore the warning text that appears in the red output cell, this is just a warning that occurs when one tries to reset values in the dataframe.\n",
    "\n",
    "</div>"
   ]
  },
  {
   "cell_type": "code",
   "execution_count": null,
   "metadata": {},
   "outputs": [],
   "source": [
    "# ___Cell no. 27___\n",
    "\n",
    "bi_df = df2[(df2.label==0) | (df2.label==2) ] # make it binary classification\n",
    "bi_df.label.replace(2,1, inplace=True) # make it binary classification\n",
    "\n",
    "pos_samples = bi_df[bi_df['label']==1]\n",
    "neg_samples = bi_df[bi_df['label']==0].sample(len(pos_samples), random_state=42)\n",
    "\n",
    "bal_bi_df = pd.concat([pos_samples, neg_samples])\n",
    "\n",
    "bi_df['label'].value_counts()\n",
    "bal_bi_df['label'].value_counts()"
   ]
  },
  {
   "cell_type": "markdown",
   "metadata": {},
   "source": [
    "Let's start by using the binary, balanced dataset as in the supervised machine learning example."
   ]
  },
  {
   "cell_type": "markdown",
   "metadata": {},
   "source": [
    "Now let's randomly split the data into the training and validation set, specifying the 80%-20% split."
   ]
  },
  {
   "cell_type": "code",
   "execution_count": null,
   "metadata": {},
   "outputs": [],
   "source": [
    "# ___Cell no. 28___\n",
    "\n",
    "train_df, val_df = train_test_split(bi_df, test_size=0.2,  random_state=42)"
   ]
  },
  {
   "cell_type": "markdown",
   "metadata": {},
   "source": [
    "Let's have a look at the number of tweets we have, for each class (sentiment) in the training and validation set."
   ]
  },
  {
   "cell_type": "code",
   "execution_count": null,
   "metadata": {},
   "outputs": [],
   "source": [
    "# ___Cell no. 29___\n",
    "\n",
    "train_df['label'].value_counts()\n",
    "val_df['label'].value_counts()"
   ]
  },
  {
   "cell_type": "markdown",
   "metadata": {},
   "source": [
    "### 2.2 Using BERT"
   ]
  },
  {
   "cell_type": "markdown",
   "metadata": {},
   "source": [
    "<div class=\"alert alert-block alert-warning\">\n",
    "\n",
    "<b>!! Attention !!</b> You MUST get permission from a tutor before running the cells below. Please alert a tutor once you are ready to run the cells to train the BERT and CT-BERT models.\n",
    "\n",
    "</div>"
   ]
  },
  {
   "cell_type": "markdown",
   "metadata": {},
   "source": [
    "BERT is a powerful language model in transfer learning and stands for \"**B**idirectional **E**ncoder **R**epresentations from **T**ransformers\". One of the advantages of BERT is that it reads words in both directions (bidirectionally) and can therefore read words before _and_ after the word in a sequence. The BERT language model is trained on a large amount of text from Wikipedia. You can read more about the BERT language model introduced in this [paper](https://arxiv.org/abs/1810.04805)."
   ]
  },
  {
   "cell_type": "markdown",
   "metadata": {},
   "source": [
    "The [Simple Transformers library](https://simpletransformers.ai/) is a great tool for quickly and efficiently utilising models for transfer learning. Simple Transformer models are built with a particular Natural Language Processing (NLP) task in mind. Each such model comes equipped with features and functionality designed to best fit the task that they are intended to perform. In our case we will be using the classification model."
   ]
  },
  {
   "cell_type": "markdown",
   "metadata": {},
   "source": [
    "Now let's get straight into building and training our domain adapted classifer using the BERT as our pretrained language model. "
   ]
  },
  {
   "cell_type": "markdown",
   "metadata": {},
   "source": [
    "<div class=\"alert alert-block alert-info\">\n",
    "    \n",
    "<b>Note:</b> Please ignore the warning text that appears in red output cells - these are just guidlines from simpletransformers regarding the BERT model.\n",
    "\n",
    "</div>"
   ]
  },
  {
   "cell_type": "code",
   "execution_count": null,
   "metadata": {},
   "outputs": [],
   "source": [
    "# ___Cell no. 30___\n",
    "\n",
    "# Build the model\n",
    "\n",
    "bert_model = ClassificationModel('bert',\n",
    "                            'bert-base-cased',\n",
    "                            num_labels=2,\n",
    "                            use_cuda=False,\n",
    "                            args={'overwrite_output_dir': True})"
   ]
  },
  {
   "cell_type": "markdown",
   "metadata": {},
   "source": [
    "<div class=\"alert alert-block alert-info\">\n",
    "    \n",
    "<b>Note:</b> If you have received permission from a tutor, you may now run the next cell to train the BERT model. Note that it should take approximately 4 minutes for the cell to run.\n",
    "\n",
    "</div>"
   ]
  },
  {
   "cell_type": "code",
   "execution_count": null,
   "metadata": {},
   "outputs": [],
   "source": [
    "%%time\n",
    "\n",
    "# ___Cell no. 31___\n",
    "\n",
    "# Train the model \n",
    "bert_model.train_model(train_df=train_df, eval_df=val_df)"
   ]
  },
  {
   "cell_type": "markdown",
   "metadata": {},
   "source": [
    "We now create wrapper functions which will allow us to obtain information about the performance of our model, i.e. the f1 score and \"classification report\". \n",
    "\n",
    "A wrapper function is a simple utility that allows us to modify an existing function (in our case we modify the metrics from **sklearn** so that it can be utilised by **Simple Transformers**). "
   ]
  },
  {
   "cell_type": "code",
   "execution_count": null,
   "metadata": {},
   "outputs": [],
   "source": [
    "# ___Cell no. 32___\n",
    "\n",
    "# wrapper functions\n",
    "\n",
    "def multi_F1(y_true, y_pred, average='macro'):\n",
    "    return sklearn.metrics.f1_score(y_true=y_true, y_pred=y_pred, average=average)\n",
    "\n",
    "def multi_classification_report(y_true, y_pred):\n",
    "    return sklearn.metrics.classification_report(y_true=y_true, y_pred=y_pred)"
   ]
  },
  {
   "cell_type": "code",
   "execution_count": null,
   "metadata": {},
   "outputs": [],
   "source": [
    "%%time\n",
    "\n",
    "# ___Cell no. 33___\n",
    "\n",
    "# Calculated and print out the f1 score\n",
    "\n",
    "result, model_outputs, wrong_predictions = bert_model.eval_model(val_df, f1=multi_F1);\n",
    "print('f1 score = ',result['f1'])"
   ]
  },
  {
   "cell_type": "code",
   "execution_count": null,
   "metadata": {},
   "outputs": [],
   "source": [
    "%%time\n",
    "\n",
    "# ___Cell no. 34___\n",
    "\n",
    "# Calculated and print out the results in the classification report\n",
    "\n",
    "result, model_outputs, wrong_predictions = bert_model.eval_model(val_df, report=multi_classification_report);\n",
    "print('Classification Report: ', result['report'])"
   ]
  },
  {
   "cell_type": "markdown",
   "metadata": {},
   "source": [
    "### Using the BERT model to make sentiment predictions for new data\n",
    "\n",
    "In order to use your trained BERT classification model to make new sentiment predictions for unseen data, you will follow steps similar to those shown in **Section 1.4**. However, now there is no need for vectorization."
   ]
  },
  {
   "cell_type": "code",
   "execution_count": null,
   "metadata": {},
   "outputs": [],
   "source": [
    "# ___Cell no. 35___\n",
    "\n",
    "# The text from your new tweets - here we are just using a small subset of the exisiting tweet_text column\n",
    "# for demonstration purposes.\n",
    "\n",
    "new_tweets = df['tweet_text'].iloc[10:30].values"
   ]
  },
  {
   "cell_type": "code",
   "execution_count": null,
   "metadata": {},
   "outputs": [],
   "source": [
    "# ___Cell no. 36___\n",
    "\n",
    "# Obtain the model's sentiment predictions for your collected tweets\n",
    "\n",
    "new_result = bert_model.predict(new_tweets)\n",
    "print(new_result[0])"
   ]
  },
  {
   "cell_type": "markdown",
   "metadata": {},
   "source": [
    "### 2.2 Using the COVID-Twitter BERT"
   ]
  },
  {
   "cell_type": "markdown",
   "metadata": {},
   "source": [
    "<div class=\"alert alert-block alert-warning\">\n",
    "\n",
    "<b>!! Attention !!</b> You MUST get permission from a tutor before running the cells below. Please alert a tutor once you are ready to run the cells to train the BERT and CT-BERT models.\n",
    "\n",
    "</div>"
   ]
  },
  {
   "cell_type": "markdown",
   "metadata": {},
   "source": [
    "When describing transfer learning above, we stated that our pretrained language model is trained on LOTS of text and learns the general rules of that language and that this model is then adapted to our domain. \n",
    "\n",
    "Luckily for us, researchers from the Digital Epidemiology Lab in Geneva, Switzerland have trained a language model based on a large amount of COVID19-related tweets. Instead of creating a language model that learns about text from articles in Wikipedia, they trained a language model called [CT-BERT](https://arxiv.org/abs/2005.07503) which has the same architecture as BERT, but that only understands the use of language as it pertains to tweets related to Covid-19. Intuitively, we should expect improved results if we use CT-BERT as our pretrained model instead of BERT."
   ]
  },
  {
   "cell_type": "markdown",
   "metadata": {},
   "source": [
    "Let's once again specify which version of the dataset we want to use and specify how we'd like the data to be split into the training and validation set."
   ]
  },
  {
   "cell_type": "code",
   "execution_count": null,
   "metadata": {},
   "outputs": [],
   "source": [
    "# ___Cell no. 37___\n",
    "\n",
    "train_df, val_df = train_test_split(bi_df, test_size=0.2,  random_state=42)"
   ]
  },
  {
   "cell_type": "code",
   "execution_count": null,
   "metadata": {},
   "outputs": [],
   "source": [
    "# ___Cell no. 38___\n",
    "\n",
    "train_df['label'].value_counts()\n",
    "val_df['label'].value_counts()"
   ]
  },
  {
   "cell_type": "code",
   "execution_count": null,
   "metadata": {},
   "outputs": [],
   "source": [
    "# ___Cell no. 40___\n",
    "\n",
    "# Build the ct-bert model\n",
    "\n",
    "ct_model = ClassificationModel('bert',\n",
    "                            'digitalepidemiologylab/covid-twitter-bert',\n",
    "                            num_labels=2,\n",
    "                            use_cuda=False,\n",
    "                            args={'overwrite_output_dir': True})"
   ]
  },
  {
   "cell_type": "markdown",
   "metadata": {},
   "source": [
    "<div class=\"alert alert-block alert-info\">\n",
    "    \n",
    "<b>Note:</b> If you have received permission from a tutor, you may now run the next cell to train the CT-BERT model. Note that it should take approximately 10 minutes for the cell to run.\n",
    "\n",
    "</div>"
   ]
  },
  {
   "cell_type": "code",
   "execution_count": null,
   "metadata": {},
   "outputs": [],
   "source": [
    "%%time\n",
    "\n",
    "# ___Cell no. 41___\n",
    "\n",
    "# Train the ct-bert model\n",
    "\n",
    "ct_model.train_model(train_df=train_df, eval_df=val_df)"
   ]
  },
  {
   "cell_type": "code",
   "execution_count": null,
   "metadata": {},
   "outputs": [],
   "source": [
    "%%time\n",
    "\n",
    "# ___Cell no. 42___\n",
    "\n",
    "# Calculated and print out the f1 score\n",
    "\n",
    "result, model_outputs, wrong_predictions = ct_model.eval_model(val_df, f1=multi_F1);\n",
    "print('f1 score = ',result['f1'])"
   ]
  },
  {
   "cell_type": "code",
   "execution_count": null,
   "metadata": {},
   "outputs": [],
   "source": [
    "%%time\n",
    "\n",
    "# ___Cell no. 43___\n",
    "\n",
    "# Calculated and print out the results in the classification report\n",
    "\n",
    "result, model_outputs, wrong_predictions = ct_model.eval_model(val_df, report=multi_classification_report);\n",
    "print('Classification Report: ', result['report'])"
   ]
  },
  {
   "cell_type": "markdown",
   "metadata": {},
   "source": [
    "After completing this tutorial you should be able to:\n",
    "\n",
    "- Identify and resolve the problem of \"bad\" or \"missing\" data\n",
    "- Use Count Vectorizer to implement the BOW method\n",
    "- Train a classical supervised learning model\n",
    "- Make use of the BERT languale model for transfer learning\n",
    "- Obtain new sentiment predictions using any of the trained models"
   ]
  },
  {
   "cell_type": "markdown",
   "metadata": {},
   "source": [
    "### Tutorial 3 complete! Well done!\n",
    "\n",
    "### You are now ready to start working on the hackathon task!\n",
    "\n",
    "\n",
    "Think of a research question where sentiment analysis can be used to gain insight into topics related to COVID19.\n",
    "\n",
    "For example: What is the sentiment around a government’s response to COVID19, and how does this vary for different countries? Or, what is the sentiment around wearing masks? Perhaps you could investigate people’s sentiment regarding lockdown in various countries or cities.\n",
    "\n",
    "You will need to\n",
    "\n",
    "- Collect Twitter data from one or multiple regions in the world, relevant to your research question.\n",
    "- Prepare the data (by cleaning and/or pre-processing).\n",
    "- Make use of existing sentiment analysis tools or one of the trained machine learning models to predict sentiment of your collected tweets.\n",
    "- Draw some conclusions and present your findings."
   ]
  }
 ],
 "metadata": {
  "kernelspec": {
   "display_name": "Python 3",
   "language": "python",
   "name": "python3"
  },
  "language_info": {
   "codemirror_mode": {
    "name": "ipython",
    "version": 3
   },
   "file_extension": ".py",
   "mimetype": "text/x-python",
   "name": "python",
   "nbconvert_exporter": "python",
   "pygments_lexer": "ipython3",
   "version": "3.7.7"
  }
 },
 "nbformat": 4,
 "nbformat_minor": 2
}
